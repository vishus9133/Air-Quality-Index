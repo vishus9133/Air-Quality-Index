{
 "cells": [
  {
   "cell_type": "code",
   "execution_count": 1,
   "metadata": {},
   "outputs": [],
   "source": [
    "import os\n",
    "import time"
   ]
  },
  {
   "cell_type": "code",
   "execution_count": 9,
   "metadata": {},
   "outputs": [],
   "source": [
    "import requests # helps in downloading the html page\n",
    "import sys"
   ]
  },
  {
   "cell_type": "code",
   "execution_count": 18,
   "metadata": {},
   "outputs": [],
   "source": [
    "def retrieve_html():\n",
    "    for year in range(2013,2020):\n",
    "        for month in range(1,13):\n",
    "            if (month<10):\n",
    "                url='https://en.tutiempo.net/climate/0{}-{}/ws-421810.html'.format(month,year)\n",
    "            else:\n",
    "                url='https://en.tutiempo.net/climate/{}-{}/ws-421810.html'.format(month,year)\n",
    "            texts=requests.get(url)\n",
    "            text_utf=texts.text.encode('utf=8')\n",
    "            if not os.path.exists(\"/Data/Html_Data/{}\".format(year)):\n",
    "                os.makedirs(\"/Data/Html_Data/{}\".format(year))\n",
    "            with open(\"/Data/Html_Data/{}/{}.html\".format(year,month),'wb') as output:\n",
    "                output.write(text_utf)\n",
    "        sys.stdout.flush()"
   ]
  },
  {
   "cell_type": "code",
   "execution_count": 19,
   "metadata": {},
   "outputs": [
    {
     "name": "stdout",
     "output_type": "stream",
     "text": [
      "time taken 81.2922534942627\n"
     ]
    }
   ],
   "source": [
    "\n",
    "start=time.time()\n",
    "retrieve_html()\n",
    "stop=time.time()\n",
    "print(\"time taken {}\".format(stop-start))"
   ]
  },
  {
   "cell_type": "code",
   "execution_count": 15,
   "metadata": {},
   "outputs": [
    {
     "data": {
      "text/plain": [
       "'C:\\\\Users\\\\Vikas\\\\Desktop\\\\PythonsAndML\\\\Untitled Folder'"
      ]
     },
     "execution_count": 15,
     "metadata": {},
     "output_type": "execute_result"
    }
   ],
   "source": [
    "pwd()"
   ]
  },
  {
   "cell_type": "code",
   "execution_count": null,
   "metadata": {},
   "outputs": [],
   "source": []
  }
 ],
 "metadata": {
  "kernelspec": {
   "display_name": "Python 3",
   "language": "python",
   "name": "python3"
  },
  "language_info": {
   "codemirror_mode": {
    "name": "ipython",
    "version": 3
   },
   "file_extension": ".py",
   "mimetype": "text/x-python",
   "name": "python",
   "nbconvert_exporter": "python",
   "pygments_lexer": "ipython3",
   "version": "3.7.6"
  }
 },
 "nbformat": 4,
 "nbformat_minor": 4
}
